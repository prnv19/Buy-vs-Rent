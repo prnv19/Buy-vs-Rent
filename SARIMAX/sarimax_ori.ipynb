{
 "cells": [
  {
   "cell_type": "code",
   "execution_count": 1,
   "metadata": {},
   "outputs": [],
   "source": [
    "import pandas as pd\n",
    "import matplotlib.pyplot as plt\n",
    "import numpy as np\n",
    "from statsmodels.tsa.statespace.sarimax import SARIMAX\n",
    "from sklearn.preprocessing import MinMaxScaler\n",
    "from sklearn.metrics import mean_squared_error, mean_absolute_error\n",
    "from pmdarima import auto_arima\n",
    "import os"
   ]
  },
  {
   "cell_type": "code",
   "execution_count": 2,
   "metadata": {},
   "outputs": [],
   "source": [
    "def create_date_range(start='2018-08-31', end='2024-08-31', freq='M', periods=None):\n",
    "    try:\n",
    "        date_range = pd.date_range(\n",
    "            start=start, \n",
    "            end=end, \n",
    "            freq=freq, \n",
    "            periods=periods\n",
    "        )\n",
    "        return date_range\n",
    "    except Exception as e:\n",
    "        print(f\"Error creating date range: {e}\")\n",
    "        return None"
   ]
  },
  {
   "cell_type": "code",
   "execution_count": 3,
   "metadata": {},
   "outputs": [
    {
     "data": {
      "text/html": [
       "<div>\n",
       "<style scoped>\n",
       "    .dataframe tbody tr th:only-of-type {\n",
       "        vertical-align: middle;\n",
       "    }\n",
       "\n",
       "    .dataframe tbody tr th {\n",
       "        vertical-align: top;\n",
       "    }\n",
       "\n",
       "    .dataframe thead th {\n",
       "        text-align: right;\n",
       "    }\n",
       "</style>\n",
       "<table border=\"1\" class=\"dataframe\">\n",
       "  <thead>\n",
       "    <tr style=\"text-align: right;\">\n",
       "      <th></th>\n",
       "      <th>RegionName</th>\n",
       "      <th>observed_rent_index</th>\n",
       "    </tr>\n",
       "  </thead>\n",
       "  <tbody>\n",
       "    <tr>\n",
       "      <th>0</th>\n",
       "      <td>Denver</td>\n",
       "      <td>[1304.498990459729, 1320.389460587924, 1336.25...</td>\n",
       "    </tr>\n",
       "    <tr>\n",
       "      <th>1</th>\n",
       "      <td>Colorado Springs</td>\n",
       "      <td>[1075.8859562843352, 1082.4341742227648, 1083....</td>\n",
       "    </tr>\n",
       "    <tr>\n",
       "      <th>2</th>\n",
       "      <td>Fort Collins</td>\n",
       "      <td>[1239.4681794663654, 1254.2975748039426, 1270....</td>\n",
       "    </tr>\n",
       "    <tr>\n",
       "      <th>3</th>\n",
       "      <td>Boulder</td>\n",
       "      <td>[1469.5117878857184, 1485.7845579329396, 1487....</td>\n",
       "    </tr>\n",
       "    <tr>\n",
       "      <th>4</th>\n",
       "      <td>Greeley</td>\n",
       "      <td>[889.9139579214843, 889.2279974686633, 1177.79...</td>\n",
       "    </tr>\n",
       "  </tbody>\n",
       "</table>\n",
       "</div>"
      ],
      "text/plain": [
       "         RegionName                                observed_rent_index\n",
       "0            Denver  [1304.498990459729, 1320.389460587924, 1336.25...\n",
       "1  Colorado Springs  [1075.8859562843352, 1082.4341742227648, 1083....\n",
       "2      Fort Collins  [1239.4681794663654, 1254.2975748039426, 1270....\n",
       "3           Boulder  [1469.5117878857184, 1485.7845579329396, 1487....\n",
       "4           Greeley  [889.9139579214843, 889.2279974686633, 1177.79..."
      ]
     },
     "execution_count": 3,
     "metadata": {},
     "output_type": "execute_result"
    }
   ],
   "source": [
    "# Load the data\n",
    "cwd = os.getcwd()\n",
    "cwd = '/'.join(cwd.split('/')[:-1])\n",
    "\n",
    "df = pd.read_pickle(f'{cwd}/Datasets/observed_rent_index_co.pkl')\n",
    "df.head()\n"
   ]
  },
  {
   "cell_type": "code",
   "execution_count": 4,
   "metadata": {},
   "outputs": [
    {
     "name": "stderr",
     "output_type": "stream",
     "text": [
      "/var/folders/y_/b1tvl6l53p3_kgr4vjlhss9w0000gn/T/ipykernel_3862/3448905241.py:3: FutureWarning: 'M' is deprecated and will be removed in a future version, please use 'ME' instead.\n",
      "  date_range = pd.date_range(\n"
     ]
    },
    {
     "data": {
      "text/html": [
       "<div>\n",
       "<style scoped>\n",
       "    .dataframe tbody tr th:only-of-type {\n",
       "        vertical-align: middle;\n",
       "    }\n",
       "\n",
       "    .dataframe tbody tr th {\n",
       "        vertical-align: top;\n",
       "    }\n",
       "\n",
       "    .dataframe thead th {\n",
       "        text-align: right;\n",
       "    }\n",
       "</style>\n",
       "<table border=\"1\" class=\"dataframe\">\n",
       "  <thead>\n",
       "    <tr style=\"text-align: right;\">\n",
       "      <th></th>\n",
       "      <th>value</th>\n",
       "    </tr>\n",
       "    <tr>\n",
       "      <th>date</th>\n",
       "      <th></th>\n",
       "    </tr>\n",
       "  </thead>\n",
       "  <tbody>\n",
       "    <tr>\n",
       "      <th>2015-01-01</th>\n",
       "      <td>1469.511788</td>\n",
       "    </tr>\n",
       "    <tr>\n",
       "      <th>2015-02-01</th>\n",
       "      <td>1485.784558</td>\n",
       "    </tr>\n",
       "    <tr>\n",
       "      <th>2015-03-01</th>\n",
       "      <td>1487.702406</td>\n",
       "    </tr>\n",
       "    <tr>\n",
       "      <th>2015-04-01</th>\n",
       "      <td>1502.395506</td>\n",
       "    </tr>\n",
       "    <tr>\n",
       "      <th>2015-05-01</th>\n",
       "      <td>1506.690133</td>\n",
       "    </tr>\n",
       "  </tbody>\n",
       "</table>\n",
       "</div>"
      ],
      "text/plain": [
       "                  value\n",
       "date                   \n",
       "2015-01-01  1469.511788\n",
       "2015-02-01  1485.784558\n",
       "2015-03-01  1487.702406\n",
       "2015-04-01  1502.395506\n",
       "2015-05-01  1506.690133"
      ]
     },
     "execution_count": 4,
     "metadata": {},
     "output_type": "execute_result"
    }
   ],
   "source": [
    "# Parameters\n",
    "region = 'Boulder'\n",
    "attribute = 'observed_rent_index'\n",
    "\n",
    "# Prepare the data\n",
    "values = df[df['RegionName'] == region]  # Select region\n",
    "values = values[attribute]  # Select column\n",
    "values = values.to_numpy()[0]  # Convert to numpy array\n",
    "\n",
    "# Create date range\n",
    "date_range = create_date_range(start='2015-01-31', end='2024-09-30', freq='M')\n",
    "data = pd.DataFrame({'date': date_range, 'value': values})\n",
    "data['date'] = pd.to_datetime(data['date'])\n",
    "data = data.set_index(data['date']).drop('date', axis=1)\n",
    "data = data.resample(\"MS\").last()\n",
    "data.head()"
   ]
  },
  {
   "cell_type": "code",
   "execution_count": 5,
   "metadata": {},
   "outputs": [
    {
     "name": "stdout",
     "output_type": "stream",
     "text": [
      "Performing stepwise search to minimize aic\n",
      " ARIMA(1,1,1)(0,0,0)[12] intercept   : AIC=-633.169, Time=0.21 sec\n",
      " ARIMA(0,1,0)(0,0,0)[12] intercept   : AIC=-609.026, Time=0.03 sec\n",
      " ARIMA(1,1,0)(1,0,0)[12] intercept   : AIC=-642.793, Time=0.26 sec\n",
      " ARIMA(0,1,1)(0,0,1)[12] intercept   : AIC=-637.344, Time=0.27 sec\n",
      " ARIMA(0,1,0)(0,0,0)[12]             : AIC=-554.381, Time=0.02 sec\n",
      " ARIMA(1,1,0)(0,0,0)[12] intercept   : AIC=-631.116, Time=0.15 sec\n",
      " ARIMA(1,1,0)(2,0,0)[12] intercept   : AIC=-657.116, Time=0.70 sec\n",
      " ARIMA(1,1,0)(2,0,1)[12] intercept   : AIC=-643.733, Time=0.59 sec\n",
      " ARIMA(1,1,0)(1,0,1)[12] intercept   : AIC=-649.875, Time=0.23 sec\n",
      " ARIMA(0,1,0)(2,0,0)[12] intercept   : AIC=-621.540, Time=0.70 sec\n",
      " ARIMA(2,1,0)(2,0,0)[12] intercept   : AIC=-657.723, Time=1.00 sec\n",
      " ARIMA(2,1,0)(1,0,0)[12] intercept   : AIC=-647.797, Time=0.22 sec\n",
      " ARIMA(2,1,0)(2,0,1)[12] intercept   : AIC=-647.796, Time=1.40 sec\n",
      " ARIMA(2,1,0)(1,0,1)[12] intercept   : AIC=-652.480, Time=0.50 sec\n",
      " ARIMA(3,1,0)(2,0,0)[12] intercept   : AIC=-667.888, Time=1.11 sec\n",
      " ARIMA(3,1,0)(1,0,0)[12] intercept   : AIC=-663.194, Time=0.23 sec\n",
      " ARIMA(3,1,0)(2,0,1)[12] intercept   : AIC=-662.563, Time=0.91 sec\n",
      " ARIMA(3,1,0)(1,0,1)[12] intercept   : AIC=-665.907, Time=0.48 sec\n",
      " ARIMA(3,1,1)(2,0,0)[12] intercept   : AIC=-673.914, Time=1.13 sec\n",
      " ARIMA(3,1,1)(1,0,0)[12] intercept   : AIC=-667.529, Time=0.40 sec\n",
      " ARIMA(3,1,1)(2,0,1)[12] intercept   : AIC=-665.358, Time=0.82 sec\n",
      " ARIMA(3,1,1)(1,0,1)[12] intercept   : AIC=-671.387, Time=0.42 sec\n",
      " ARIMA(2,1,1)(2,0,0)[12] intercept   : AIC=-655.281, Time=1.29 sec\n",
      " ARIMA(3,1,2)(2,0,0)[12] intercept   : AIC=-672.573, Time=1.38 sec\n",
      " ARIMA(2,1,2)(2,0,0)[12] intercept   : AIC=-677.383, Time=1.28 sec\n",
      " ARIMA(2,1,2)(1,0,0)[12] intercept   : AIC=-672.597, Time=0.57 sec\n",
      " ARIMA(2,1,2)(2,0,1)[12] intercept   : AIC=-672.909, Time=1.84 sec\n",
      " ARIMA(2,1,2)(1,0,1)[12] intercept   : AIC=-676.797, Time=0.68 sec\n",
      " ARIMA(1,1,2)(2,0,0)[12] intercept   : AIC=-672.577, Time=0.97 sec\n",
      " ARIMA(2,1,3)(2,0,0)[12] intercept   : AIC=-674.985, Time=1.41 sec\n",
      " ARIMA(1,1,1)(2,0,0)[12] intercept   : AIC=-655.819, Time=0.91 sec\n",
      " ARIMA(1,1,3)(2,0,0)[12] intercept   : AIC=-669.004, Time=1.28 sec\n",
      " ARIMA(3,1,3)(2,0,0)[12] intercept   : AIC=-616.136, Time=1.49 sec\n",
      " ARIMA(2,1,2)(2,0,0)[12]             : AIC=-660.041, Time=0.81 sec\n",
      "\n",
      "Best model:  ARIMA(2,1,2)(2,0,0)[12] intercept\n",
      "Total fit time: 25.731 seconds\n",
      "Optimal SARIMA order: (2, 1, 2)\n",
      "Optimal Seasonal order: (2, 0, 0, 12)\n"
     ]
    },
    {
     "name": "stderr",
     "output_type": "stream",
     "text": [
      "/usr/local/Caskroom/miniconda/base/envs/data_mining/lib/python3.11/site-packages/statsmodels/base/model.py:607: ConvergenceWarning: Maximum Likelihood optimization failed to converge. Check mle_retvals\n",
      "  warnings.warn(\"Maximum Likelihood optimization failed to \"\n"
     ]
    },
    {
     "name": "stdout",
     "output_type": "stream",
     "text": [
      "RMSE: 145.3590988942533\n",
      "MAE: 134.54038121028415\n",
      "MAPE: 5.85%\n"
     ]
    },
    {
     "data": {
      "image/png": "[encoded data removed]",
      "text/plain": [
       "<Figure size 1200x600 with 1 Axes>"
      ]
     },
     "metadata": {},
     "output_type": "display_data"
    }
   ],
   "source": [
    "# Scale the data\n",
    "scaler = MinMaxScaler()\n",
    "scaled_values = scaler.fit_transform(data[['value']])\n",
    "data['scaled_value'] = scaled_values\n",
    "\n",
    "# Train-test split\n",
    "train = data[data.index.year < 2023]['scaled_value']\n",
    "test = data[data.index.year >= 2023]['scaled_value']\n",
    "\n",
    "# Use auto_arima to determine the seasonal order (P, D, Q, s)\n",
    "stepwise_model = auto_arima(train, \n",
    "                            start_p=1, start_q=1,\n",
    "                            max_p=3, max_q=3, d=1,\n",
    "                            start_P=0, start_Q=0,\n",
    "                            max_P=2, max_Q=2, \n",
    "                            seasonal=True, \n",
    "                            m=12,  # Monthly seasonality\n",
    "                            trace=True,\n",
    "                            error_action='ignore',\n",
    "                            suppress_warnings=True,\n",
    "                            stepwise=True)\n",
    "\n",
    "# Display the chosen SARIMAX order\n",
    "print(f\"Optimal SARIMA order: {stepwise_model.order}\")\n",
    "print(f\"Optimal Seasonal order: {stepwise_model.seasonal_order}\")\n",
    "\n",
    "# Fit the SARIMAX model\n",
    "model = SARIMAX(train, \n",
    "                order=stepwise_model.order, \n",
    "                seasonal_order=stepwise_model.seasonal_order,\n",
    "                enforce_stationarity=False,\n",
    "                enforce_invertibility=False)\n",
    "fitted_model = model.fit(disp=False)\n",
    "\n",
    "# Forecast\n",
    "forecast_steps = len(test)\n",
    "forecast = fitted_model.forecast(steps=forecast_steps)\n",
    "\n",
    "# Reverse scaling of forecast and test data\n",
    "forecast_original = scaler.inverse_transform(forecast.values.reshape(-1, 1)).flatten()\n",
    "test_original = scaler.inverse_transform(test.values.reshape(-1, 1)).flatten()\n",
    "\n",
    "# Evaluation metrics on original scale\n",
    "rmse = np.sqrt(mean_squared_error(test_original, forecast_original))\n",
    "mae = mean_absolute_error(test_original, forecast_original)\n",
    "mape = np.mean(np.abs((test_original - forecast_original) / test_original)) * 100\n",
    "\n",
    "print(f\"RMSE: {rmse}\")\n",
    "print(f\"MAE: {mae}\")\n",
    "print(f\"MAPE: {mape:.2f}%\")\n",
    "\n",
    "# Visualization\n",
    "plt.figure(figsize=(12, 6))\n",
    "plt.plot(data[data.index.year < 2023].index, scaler.inverse_transform(train.values.reshape(-1, 1)), label=\"Training Data\")\n",
    "plt.plot(data[data.index.year >= 2023].index, test_original, label=\"Actual Data\", color='green')\n",
    "plt.plot(data[data.index.year >= 2023].index, forecast_original, label=\"Forecasted Data\", color='orange')\n",
    "plt.title(\"SARIMAX Forecast with Min-Max Scaling\")\n",
    "plt.xlabel(\"Date\")\n",
    "plt.ylabel(\"Value\")\n",
    "plt.legend()\n",
    "plt.show()\n"
   ]
  }
 ],
 "metadata": {
  "kernelspec": {
   "display_name": "data_mining",
   "language": "python",
   "name": "python3"
  },
  "language_info": {
   "codemirror_mode": {
    "name": "ipython",
    "version": 3
   },
   "file_extension": ".py",
   "mimetype": "text/x-python",
   "name": "python",
   "nbconvert_exporter": "python",
   "pygments_lexer": "ipython3",
   "version": "3.11.5"
  }
 },
 "nbformat": 4,
 "nbformat_minor": 2
}
